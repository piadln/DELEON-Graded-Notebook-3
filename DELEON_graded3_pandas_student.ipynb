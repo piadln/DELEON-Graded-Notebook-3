{
  "cells": [
    {
      "cell_type": "markdown",
      "source": [
        "*Author/s:*\n",
        "**SOPHIA LEIGH D. DE LEON**\n",
        "\n",
        "Course code and section:  DATA100 - S17\n",
        "\n",
        "Student ID: 12229067\n",
        "\n",
        "College: CLT-SOE"
      ],
      "metadata": {
        "id": "M3FMKqUwbEqN"
      },
      "id": "M3FMKqUwbEqN"
    },
    {
      "cell_type": "markdown",
      "id": "174e376c",
      "metadata": {
        "id": "174e376c"
      },
      "source": [
        "# Zomato Exercise"
      ]
    },
    {
      "cell_type": "markdown",
      "id": "2d84fdf3",
      "metadata": {
        "id": "2d84fdf3"
      },
      "source": [
        "Zomato is a restaurant aggregator website. The platform provides information, menus and user-reviews of restaurants as well as food delivery options from partner restaurants in select cities. You have been provided 3 datasets:\n",
        "\n",
        "- zomato.csv contains restaurant information like average_cost_for_two, cuisines\n",
        "- location.csv contains location of the restaurants like address, city, locality & etc\n",
        "- ratings.csv contains aggregate rating for each restaurant\n",
        "\n",
        "The different files are connected using the `id` columns which can be found in the different files. The id column is a unique identifier to represent a restaurant. You can use this to **merge** the different files."
      ]
    },
    {
      "cell_type": "code",
      "execution_count": 1,
      "id": "5337de5f",
      "metadata": {
        "id": "5337de5f"
      },
      "outputs": [],
      "source": [
        "import pandas as pd\n",
        "import numpy as np"
      ]
    },
    {
      "cell_type": "markdown",
      "id": "77605fbc",
      "metadata": {
        "id": "77605fbc"
      },
      "source": [
        "1. Merge the zomato, location & ratings file into a single dataframe and store it to the `merged_df` variable **(3pts)**"
      ]
    },
    {
      "cell_type": "code",
      "execution_count": 2,
      "id": "ddbd0bb1",
      "metadata": {
        "id": "ddbd0bb1"
      },
      "outputs": [],
      "source": [
        "merged_df = None"
      ]
    },
    {
      "cell_type": "code",
      "execution_count": 4,
      "id": "b2a86a44",
      "metadata": {
        "id": "b2a86a44"
      },
      "outputs": [],
      "source": [
        "zomato = pd.read_csv('zomato.csv')\n",
        "location = pd.read_csv('location.csv')\n",
        "ratings = pd.read_csv('ratings.csv')\n",
        "\n",
        "merged_df = pd.merge(zomato, location, on='id')\n",
        "merged_df = pd.merge(merged_df, ratings, on='id')\n",
        "\n",
        "assert (6830, 35) == merged_df.shape\n",
        "\n",
        "cols = ['id', 'address', 'city', 'city_id', 'country_id', 'latitude', 'locality', 'locality_verbose', 'longitude',\n",
        "        'zipcode', 'aggregate_rating', 'rating_color', 'rating_text', 'votes', 'average_cost_for_two',\n",
        "        'book_url', 'cuisines', 'currency', 'deeplink', 'events_url', 'featured_image', 'has_online_delivery',\n",
        "        'has_table_booking', 'include_bogo_offers', 'is_book_form_web_view', 'is_delivering_now',\n",
        "        'is_table_reservation_supported', 'is_zomato_book_res', 'menu_url', 'mezzo_provider', 'name',\n",
        "        'photos_url', 'price_range', 'thumb', 'url']\n",
        "\n",
        "assert sorted(merged_df.columns) == sorted(cols)"
      ]
    },
    {
      "cell_type": "markdown",
      "id": "02223abe",
      "metadata": {
        "id": "02223abe"
      },
      "source": [
        "2. Create a function that returns the average aggregate rating for each city. Expected returned value is a Series datatype which contains name of city as index and average aggregate rating as value. **(2pts)**"
      ]
    },
    {
      "cell_type": "code",
      "execution_count": 5,
      "id": "bd7d8f34",
      "metadata": {
        "id": "bd7d8f34"
      },
      "outputs": [],
      "source": [
        "def exercise_2(merged_df):\n",
        "    return merged_df.groupby('city')['aggregate_rating'].mean()"
      ]
    },
    {
      "cell_type": "code",
      "execution_count": 6,
      "id": "10e5b4c1",
      "metadata": {
        "id": "10e5b4c1"
      },
      "outputs": [],
      "source": [
        "res_series = exercise_2(merged_df)\n",
        "\n",
        "assert True == np.isclose(3.302075, res_series[res_series.index == 'Pasay City'], rtol=1e-05, atol=1e-08, equal_nan=False)[0]\n",
        "assert True == np.isclose(1.890741, res_series[res_series.index == 'Valenzuela City'], rtol=1e-05, atol=1e-08, equal_nan=False)[0]\n",
        "assert True == np.isclose(1.558333, res_series[res_series.index == 'Malabon City'], rtol=1e-05, atol=1e-08, equal_nan=False)[0]"
      ]
    },
    {
      "cell_type": "markdown",
      "id": "5db591ac",
      "metadata": {
        "id": "5db591ac"
      },
      "source": [
        "3. Using the apply function of pandas convert the rating_text to a numeric equivalent. You are to introduce a new column in merged_df called `rating_numeric` which is based on the value from rating_text: **(3pts)**\n",
        "\n",
        "Excellent = 5 <br>\n",
        "Very Good = 4 <br>\n",
        "Good = 3 <br>\n",
        "Average = 2 <br>\n",
        "Poor = 1 <br>\n",
        "Not rated = 0 <br>"
      ]
    },
    {
      "cell_type": "code",
      "execution_count": 7,
      "id": "41293771",
      "metadata": {
        "id": "41293771"
      },
      "outputs": [],
      "source": [
        "rating_map = {\n",
        "    'Excellent': 5,\n",
        "    'Very Good': 4,\n",
        "    'Good': 3,\n",
        "    'Average': 2,\n",
        "    'Poor': 1,\n",
        "    'Not rated': 0\n",
        "}\n",
        "\n",
        "# Apply the mapping to create a new column 'rating_numeric'\n",
        "merged_df['rating_numeric'] = merged_df['rating_text'].apply(lambda x: rating_map.get(x, 0))"
      ]
    },
    {
      "cell_type": "code",
      "execution_count": 8,
      "id": "c62df922",
      "metadata": {
        "id": "c62df922"
      },
      "outputs": [],
      "source": [
        "assert 868 == merged_df[merged_df.rating_numeric == 0].shape[0]\n",
        "assert 'rating_numeric' in merged_df.columns"
      ]
    },
    {
      "cell_type": "markdown",
      "id": "97ec4197",
      "metadata": {
        "id": "97ec4197"
      },
      "source": [
        "4. Create a function which filters the merged dataframe to only contain rows coming in from a specific city. Expected returned value is a dataframe **(2pts)**"
      ]
    },
    {
      "cell_type": "code",
      "execution_count": 10,
      "id": "9773b18e",
      "metadata": {
        "id": "9773b18e"
      },
      "outputs": [],
      "source": [
        "def exercise_4(merged_df, city):\n",
        "    return merged_df[merged_df['city'] == city]"
      ]
    },
    {
      "cell_type": "code",
      "execution_count": 11,
      "id": "1ca29a81",
      "metadata": {
        "id": "1ca29a81"
      },
      "outputs": [],
      "source": [
        "assert 'Makati City' == exercise_4(merged_df, 'Makati City').city.unique()[0]\n",
        "assert (976, 36) == exercise_4(merged_df, 'Makati City').shape\n",
        "assert 'Mandaluyong City' == exercise_4(merged_df, 'Mandaluyong City').city.unique()[0]\n",
        "assert (443, 36) == exercise_4(merged_df, 'Mandaluyong City').shape\n",
        "assert (0, 36) == exercise_4(merged_df, 'Quezon  City').shape"
      ]
    },
    {
      "cell_type": "markdown",
      "id": "ca7bf3c1",
      "metadata": {
        "id": "ca7bf3c1"
      },
      "source": [
        "5. Create a function to filter the dataframe to only contain certain columns passed in the function. Expected returned value is a dataframe **(1pt)**"
      ]
    },
    {
      "cell_type": "code",
      "execution_count": 17,
      "id": "59787577",
      "metadata": {
        "id": "59787577"
      },
      "outputs": [],
      "source": [
        "def exercise_5(merged_df, cols_to_filter):\n",
        "    return merged_df[cols_to_filter]"
      ]
    },
    {
      "cell_type": "code",
      "execution_count": 18,
      "id": "da27c054",
      "metadata": {
        "id": "da27c054"
      },
      "outputs": [],
      "source": [
        "cols = ['name', 'cuisines', 'city', 'aggregate_rating']\n",
        "assert sorted(cols) == sorted(exercise_5(merged_df, cols).columns)\n",
        "assert (6830, 4) == exercise_5(merged_df, cols).shape\n",
        "\n",
        "cols = ['average_cost_for_two', 'book_url', 'cuisines', 'currency', 'deeplink',\n",
        "       'events_url', 'featured_image', 'has_online_delivery',\n",
        "       'has_table_booking', 'include_bogo_offers', 'is_book_form_web_view']\n",
        "assert sorted(cols) == sorted(exercise_5(merged_df, cols).columns)\n",
        "assert (6830, 11) == exercise_5(merged_df, cols).shape\n"
      ]
    },
    {
      "cell_type": "markdown",
      "id": "d69c7e2e",
      "metadata": {
        "id": "d69c7e2e"
      },
      "source": [
        "6.  What is the most common restaurant name in the dataset? **(2pts)** Write down your answer and show code used to come up with the answer."
      ]
    },
    {
      "cell_type": "code",
      "execution_count": 19,
      "id": "cf9cdab1",
      "metadata": {
        "id": "cf9cdab1",
        "colab": {
          "base_uri": "https://localhost:8080/"
        },
        "outputId": "7b0856ed-fd60-4494-8cf1-b9d2c9592e47"
      },
      "outputs": [
        {
          "output_type": "stream",
          "name": "stdout",
          "text": [
            "The most common restaurant name is: Starbucks\n"
          ]
        }
      ],
      "source": [
        "most_common_name = merged_df['name'].value_counts().idxmax()\n",
        "print(f\"The most common restaurant name is: {most_common_name}\")"
      ]
    },
    {
      "cell_type": "markdown",
      "id": "7675b4b1",
      "metadata": {
        "id": "7675b4b1"
      },
      "source": [
        "7. Which restaurant has the most expensive average cost for two? **(2pts)** Write down your answer and show code used to come up with the answer."
      ]
    },
    {
      "cell_type": "code",
      "execution_count": 20,
      "id": "b447b440",
      "metadata": {
        "id": "b447b440",
        "colab": {
          "base_uri": "https://localhost:8080/"
        },
        "outputId": "360ef137-24d5-4b1a-9d0f-09a1a8e4a772"
      },
      "outputs": [
        {
          "output_type": "stream",
          "name": "stdout",
          "text": [
            "The restaurant with the most expensive average cost for two is: The Tasting Room\n"
          ]
        }
      ],
      "source": [
        "most_expensive_restaurant = merged_df.loc[merged_df['average_cost_for_two'].idxmax()]['name']\n",
        "print(f\"The restaurant with the most expensive average cost for two is: {most_expensive_restaurant}\")"
      ]
    },
    {
      "cell_type": "markdown",
      "id": "af873fb7",
      "metadata": {
        "id": "af873fb7"
      },
      "source": [
        "8. How many restaurants do not have a zipcode? **(1pt)** Write down your answer and show code used to come up with the answer."
      ]
    },
    {
      "cell_type": "code",
      "execution_count": 21,
      "id": "43f1234a",
      "metadata": {
        "id": "43f1234a",
        "colab": {
          "base_uri": "https://localhost:8080/"
        },
        "outputId": "599e0ddd-b41b-4d62-8f49-d136ad6fd62a"
      },
      "outputs": [
        {
          "output_type": "stream",
          "name": "stdout",
          "text": [
            "The number of restaurants without a zipcode is: 6713\n"
          ]
        }
      ],
      "source": [
        "restaurants_without_zipcode = merged_df['zipcode'].isna().sum()\n",
        "print(f\"The number of restaurants without a zipcode is: {restaurants_without_zipcode}\")"
      ]
    },
    {
      "cell_type": "markdown",
      "id": "9347ac03",
      "metadata": {
        "id": "9347ac03"
      },
      "source": [
        "9. How many restaurants in the dataset allow online delivery? **(1pt)** Write down your answer and show code used to come up with the answer."
      ]
    },
    {
      "cell_type": "code",
      "execution_count": 22,
      "id": "24b62212",
      "metadata": {
        "id": "24b62212",
        "colab": {
          "base_uri": "https://localhost:8080/"
        },
        "outputId": "9b1d3f09-7626-43d3-b2f3-565f8f0a1584"
      },
      "outputs": [
        {
          "output_type": "stream",
          "name": "stdout",
          "text": [
            "The number of restaurants that allow online delivery is: 0\n"
          ]
        }
      ],
      "source": [
        "online_delivery_count = merged_df[merged_df['has_online_delivery'] == 1].shape[0]\n",
        "print(f\"The number of restaurants that allow online delivery is: {online_delivery_count}\")"
      ]
    },
    {
      "cell_type": "markdown",
      "id": "7f2c7aa3",
      "metadata": {
        "id": "7f2c7aa3"
      },
      "source": [
        "10. Which locatlity has more expensive food? Poblacion or Salcedo Village? **(3pts)** Write down your answer and show code used to come up with the answer.\n"
      ]
    },
    {
      "cell_type": "code",
      "execution_count": 23,
      "id": "8fb7ce16",
      "metadata": {
        "id": "8fb7ce16",
        "colab": {
          "base_uri": "https://localhost:8080/"
        },
        "outputId": "16f32991-e8e7-44bb-d798-6fbda244db81"
      },
      "outputs": [
        {
          "output_type": "stream",
          "name": "stdout",
          "text": [
            "Salcedo Village has more expensive food.\n"
          ]
        }
      ],
      "source": [
        "poblacion_cost = merged_df[merged_df['locality'] == 'Poblacion']['average_cost_for_two'].mean()\n",
        "salcedo_village_cost = merged_df[merged_df['locality'] == 'Salcedo Village']['average_cost_for_two'].mean()\n",
        "\n",
        "if poblacion_cost > salcedo_village_cost:\n",
        "    print(\"Poblacion has more expensive food.\")\n",
        "else:\n",
        "    print(\"Salcedo Village has more expensive food.\")"
      ]
    }
  ],
  "metadata": {
    "kernelspec": {
      "display_name": "Python 3",
      "language": "python",
      "name": "python3"
    },
    "language_info": {
      "codemirror_mode": {
        "name": "ipython",
        "version": 3
      },
      "file_extension": ".py",
      "mimetype": "text/x-python",
      "name": "python",
      "nbconvert_exporter": "python",
      "pygments_lexer": "ipython3",
      "version": "3.7.7"
    },
    "colab": {
      "provenance": []
    }
  },
  "nbformat": 4,
  "nbformat_minor": 5
}